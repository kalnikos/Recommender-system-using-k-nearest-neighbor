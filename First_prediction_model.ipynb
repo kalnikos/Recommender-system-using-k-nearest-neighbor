{
 "cells": [
  {
   "cell_type": "code",
   "execution_count": 1,
   "metadata": {},
   "outputs": [],
   "source": [
    "## Let's try to create a model aiming to predict the player position \n",
    "import pandas as pd\n",
    "import numpy as np"
   ]
  },
  {
   "cell_type": "code",
   "execution_count": 2,
   "metadata": {},
   "outputs": [
    {
     "data": {
      "text/html": [
       "<div>\n",
       "<style scoped>\n",
       "    .dataframe tbody tr th:only-of-type {\n",
       "        vertical-align: middle;\n",
       "    }\n",
       "\n",
       "    .dataframe tbody tr th {\n",
       "        vertical-align: top;\n",
       "    }\n",
       "\n",
       "    .dataframe thead th {\n",
       "        text-align: right;\n",
       "    }\n",
       "</style>\n",
       "<table border=\"1\" class=\"dataframe\">\n",
       "  <thead>\n",
       "    <tr style=\"text-align: right;\">\n",
       "      <th></th>\n",
       "      <th>Unnamed: 0</th>\n",
       "      <th>Unnamed: 0.1</th>\n",
       "      <th>Player</th>\n",
       "      <th>Ratings</th>\n",
       "      <th>Age</th>\n",
       "      <th>G</th>\n",
       "      <th>GS</th>\n",
       "      <th>MP</th>\n",
       "      <th>FG</th>\n",
       "      <th>FGA</th>\n",
       "      <th>...</th>\n",
       "      <th>DRB</th>\n",
       "      <th>TRB</th>\n",
       "      <th>AST</th>\n",
       "      <th>STL</th>\n",
       "      <th>BLK</th>\n",
       "      <th>TOV</th>\n",
       "      <th>PF</th>\n",
       "      <th>PTS</th>\n",
       "      <th>Salary</th>\n",
       "      <th>position</th>\n",
       "    </tr>\n",
       "  </thead>\n",
       "  <tbody>\n",
       "    <tr>\n",
       "      <th>0</th>\n",
       "      <td>0</td>\n",
       "      <td>0</td>\n",
       "      <td>LeBron James</td>\n",
       "      <td>97</td>\n",
       "      <td>35</td>\n",
       "      <td>60</td>\n",
       "      <td>60</td>\n",
       "      <td>34.9</td>\n",
       "      <td>9.8</td>\n",
       "      <td>19.6</td>\n",
       "      <td>...</td>\n",
       "      <td>6.9</td>\n",
       "      <td>7.9</td>\n",
       "      <td>10.6</td>\n",
       "      <td>1.2</td>\n",
       "      <td>0.5</td>\n",
       "      <td>4.0</td>\n",
       "      <td>1.8</td>\n",
       "      <td>25.7</td>\n",
       "      <td>37436858</td>\n",
       "      <td>1</td>\n",
       "    </tr>\n",
       "    <tr>\n",
       "      <th>1</th>\n",
       "      <td>1</td>\n",
       "      <td>1</td>\n",
       "      <td>Kawhi Leonard</td>\n",
       "      <td>97</td>\n",
       "      <td>28</td>\n",
       "      <td>51</td>\n",
       "      <td>51</td>\n",
       "      <td>32.2</td>\n",
       "      <td>9.3</td>\n",
       "      <td>19.9</td>\n",
       "      <td>...</td>\n",
       "      <td>6.3</td>\n",
       "      <td>7.3</td>\n",
       "      <td>5.0</td>\n",
       "      <td>1.8</td>\n",
       "      <td>0.6</td>\n",
       "      <td>2.7</td>\n",
       "      <td>1.9</td>\n",
       "      <td>26.9</td>\n",
       "      <td>32742000</td>\n",
       "      <td>3</td>\n",
       "    </tr>\n",
       "    <tr>\n",
       "      <th>2</th>\n",
       "      <td>2</td>\n",
       "      <td>2</td>\n",
       "      <td>Giannis Antetokounmpo</td>\n",
       "      <td>96</td>\n",
       "      <td>25</td>\n",
       "      <td>57</td>\n",
       "      <td>57</td>\n",
       "      <td>30.9</td>\n",
       "      <td>10.9</td>\n",
       "      <td>20.0</td>\n",
       "      <td>...</td>\n",
       "      <td>11.5</td>\n",
       "      <td>13.7</td>\n",
       "      <td>5.8</td>\n",
       "      <td>1.0</td>\n",
       "      <td>1.0</td>\n",
       "      <td>3.7</td>\n",
       "      <td>3.0</td>\n",
       "      <td>29.6</td>\n",
       "      <td>25842697</td>\n",
       "      <td>4</td>\n",
       "    </tr>\n",
       "    <tr>\n",
       "      <th>3</th>\n",
       "      <td>3</td>\n",
       "      <td>3</td>\n",
       "      <td>James Harden</td>\n",
       "      <td>96</td>\n",
       "      <td>30</td>\n",
       "      <td>61</td>\n",
       "      <td>61</td>\n",
       "      <td>36.7</td>\n",
       "      <td>9.9</td>\n",
       "      <td>22.7</td>\n",
       "      <td>...</td>\n",
       "      <td>5.3</td>\n",
       "      <td>6.4</td>\n",
       "      <td>7.4</td>\n",
       "      <td>1.7</td>\n",
       "      <td>0.9</td>\n",
       "      <td>4.5</td>\n",
       "      <td>3.4</td>\n",
       "      <td>34.4</td>\n",
       "      <td>38199000</td>\n",
       "      <td>2</td>\n",
       "    </tr>\n",
       "    <tr>\n",
       "      <th>4</th>\n",
       "      <td>4</td>\n",
       "      <td>4</td>\n",
       "      <td>Stephen Curry</td>\n",
       "      <td>95</td>\n",
       "      <td>31</td>\n",
       "      <td>5</td>\n",
       "      <td>5</td>\n",
       "      <td>27.8</td>\n",
       "      <td>6.6</td>\n",
       "      <td>16.4</td>\n",
       "      <td>...</td>\n",
       "      <td>4.4</td>\n",
       "      <td>5.2</td>\n",
       "      <td>6.6</td>\n",
       "      <td>1.0</td>\n",
       "      <td>0.4</td>\n",
       "      <td>3.2</td>\n",
       "      <td>2.2</td>\n",
       "      <td>20.8</td>\n",
       "      <td>40231758</td>\n",
       "      <td>1</td>\n",
       "    </tr>\n",
       "  </tbody>\n",
       "</table>\n",
       "<p>5 rows × 32 columns</p>\n",
       "</div>"
      ],
      "text/plain": [
       "   Unnamed: 0  Unnamed: 0.1                 Player  Ratings  Age   G  GS  \\\n",
       "0           0             0           LeBron James       97   35  60  60   \n",
       "1           1             1          Kawhi Leonard       97   28  51  51   \n",
       "2           2             2  Giannis Antetokounmpo       96   25  57  57   \n",
       "3           3             3           James Harden       96   30  61  61   \n",
       "4           4             4          Stephen Curry       95   31   5   5   \n",
       "\n",
       "     MP    FG   FGA  ...   DRB   TRB   AST  STL  BLK  TOV   PF   PTS  \\\n",
       "0  34.9   9.8  19.6  ...   6.9   7.9  10.6  1.2  0.5  4.0  1.8  25.7   \n",
       "1  32.2   9.3  19.9  ...   6.3   7.3   5.0  1.8  0.6  2.7  1.9  26.9   \n",
       "2  30.9  10.9  20.0  ...  11.5  13.7   5.8  1.0  1.0  3.7  3.0  29.6   \n",
       "3  36.7   9.9  22.7  ...   5.3   6.4   7.4  1.7  0.9  4.5  3.4  34.4   \n",
       "4  27.8   6.6  16.4  ...   4.4   5.2   6.6  1.0  0.4  3.2  2.2  20.8   \n",
       "\n",
       "     Salary  position  \n",
       "0  37436858         1  \n",
       "1  32742000         3  \n",
       "2  25842697         4  \n",
       "3  38199000         2  \n",
       "4  40231758         1  \n",
       "\n",
       "[5 rows x 32 columns]"
      ]
     },
     "execution_count": 2,
     "metadata": {},
     "output_type": "execute_result"
    }
   ],
   "source": [
    "df = pd.read_csv(\"new_data.csv\")\n",
    "df.head()"
   ]
  },
  {
   "cell_type": "code",
   "execution_count": 3,
   "metadata": {},
   "outputs": [
    {
     "data": {
      "text/plain": [
       "2    101\n",
       "4     83\n",
       "3     68\n",
       "1     67\n",
       "5     66\n",
       "Name: position, dtype: int64"
      ]
     },
     "execution_count": 3,
     "metadata": {},
     "output_type": "execute_result"
    }
   ],
   "source": [
    "df.position.value_counts()"
   ]
  },
  {
   "cell_type": "code",
   "execution_count": 4,
   "metadata": {},
   "outputs": [
    {
     "data": {
      "text/plain": [
       "Index(['Unnamed: 0', 'Unnamed: 0.1', 'Player', 'Ratings', 'Age', 'G', 'GS',\n",
       "       'MP', 'FG', 'FGA', 'FG%', '3P', '3PA', '3P%', '2P', '2PA', '2P%',\n",
       "       'eFG%', 'FT', 'FTA', 'FT%', 'ORB', 'DRB', 'TRB', 'AST', 'STL', 'BLK',\n",
       "       'TOV', 'PF', 'PTS', 'Salary', 'position'],\n",
       "      dtype='object')"
      ]
     },
     "execution_count": 4,
     "metadata": {},
     "output_type": "execute_result"
    }
   ],
   "source": [
    "df.columns"
   ]
  },
  {
   "cell_type": "code",
   "execution_count": 5,
   "metadata": {},
   "outputs": [],
   "source": [
    "## Let's define the features and the dependent variable\n",
    "X = df[[\"MP\", \"FG\", \"FG%\", \"3PA\", \"3P%\", \"2PA\", \"2P%\", \"FTA\", \"FT%\", \"ORB\", \"DRB\", \"AST\", \"STL\", \"BLK\", \"TOV\", \"PTS\"]].values\n",
    "Y = df.position.values     \n"
   ]
  },
  {
   "cell_type": "code",
   "execution_count": 7,
   "metadata": {},
   "outputs": [
    {
     "data": {
      "text/plain": [
       "array([[ 1.55209615e+00,  2.65002036e+00,  5.88461764e-01,\n",
       "         1.43224543e+00,  1.98806744e-01,  2.35906898e+00,\n",
       "         5.73900722e-01,  1.97257943e+00, -4.02195658e-01,\n",
       "         1.53458589e-01,  2.05328626e+00,  4.53384706e+00,\n",
       "         1.18251324e+00,  1.07256064e-01,  3.12266286e+00,\n",
       "         2.41757783e+00],\n",
       "       [ 1.22887882e+00,  2.43438486e+00,  2.50993194e-01,\n",
       "         1.12188912e+00,  3.37040054e-01,  2.61220992e+00,\n",
       "        -4.63328098e-03,  2.62516209e+00,  1.02611580e+00,\n",
       "         1.53458589e-01,  1.72705397e+00,  1.50763293e+00,\n",
       "         2.61793393e+00,  3.40553152e-01,  1.62506535e+00,\n",
       "         2.60253220e+00],\n",
       "       [ 1.07325566e+00,  3.12441848e+00,  1.15866728e+00,\n",
       "         7.22859578e-01, -1.50842215e-01,  2.89347763e+00,\n",
       "         1.07529686e+00,  4.31100065e+00, -8.78299478e-01,\n",
       "         1.91103350e+00,  4.55440048e+00,  1.93994923e+00,\n",
       "         7.04039672e-01,  1.27374151e+00,  2.77706343e+00,\n",
       "         3.01867954e+00],\n",
       "       [ 1.76757437e+00,  2.69314747e+00, -1.44659613e-01,\n",
       "         4.18111561e+00,  2.23200858e-01,  1.45901231e+00,\n",
       "         2.65349254e-01,  5.28987465e+00,  8.17820381e-01,\n",
       "         1.53458589e-01,  1.18333349e+00,  2.80458184e+00,\n",
       "         2.37869714e+00,  1.04044442e+00,  3.69866190e+00,\n",
       "         3.75849703e+00],\n",
       "       [ 7.02154283e-01,  1.26995312e+00, -5.28675572e-01,\n",
       "         2.93969037e+00, -6.46855855e-01,  4.74575334e-01,\n",
       "         1.21028813e+00,  1.70066998e+00,  1.85185837e+00,\n",
       "        -1.16937551e-01,  6.93985052e-01,  2.37226554e+00,\n",
       "         7.04039672e-01, -1.26041024e-01,  2.20106439e+00,\n",
       "         1.66234748e+00]])"
      ]
     },
     "execution_count": 7,
     "metadata": {},
     "output_type": "execute_result"
    }
   ],
   "source": [
    "## Data Standardization give data zero mean and unit variance, \n",
    "## it is good practice, especially for algorithms such as KNN which is based on distance of cases:\n",
    "from sklearn import preprocessing\n",
    "\n",
    "X = preprocessing.StandardScaler().fit(X).transform(X.astype(float))\n",
    "X[0:5]"
   ]
  },
  {
   "cell_type": "code",
   "execution_count": 8,
   "metadata": {},
   "outputs": [
    {
     "name": "stdout",
     "output_type": "stream",
     "text": [
      "Train set: (308, 16) (308,)\n",
      "Test set: (77, 16) (77,)\n"
     ]
    }
   ],
   "source": [
    "## Train Test split\n",
    "from sklearn.model_selection import train_test_split\n",
    "X_train, X_test, y_train, y_test = train_test_split( X, Y, test_size=0.2, random_state=4)\n",
    "print ('Train set:', X_train.shape,  y_train.shape)\n",
    "print ('Test set:', X_test.shape,  y_test.shape)"
   ]
  },
  {
   "cell_type": "code",
   "execution_count": 14,
   "metadata": {},
   "outputs": [
    {
     "data": {
      "text/plain": [
       "KNeighborsClassifier(algorithm='auto', leaf_size=30, metric='minkowski',\n",
       "                     metric_params=None, n_jobs=None, n_neighbors=4, p=2,\n",
       "                     weights='uniform')"
      ]
     },
     "execution_count": 14,
     "metadata": {},
     "output_type": "execute_result"
    }
   ],
   "source": [
    "## KNN algorithm\n",
    "from sklearn.neighbors import KNeighborsClassifier\n",
    "k = 4\n",
    "#Train Model and Predict  \n",
    "k_neighbor = KNeighborsClassifier(n_neighbors = k).fit(X_train,y_train)\n",
    "k_neighbor"
   ]
  },
  {
   "cell_type": "code",
   "execution_count": 15,
   "metadata": {},
   "outputs": [
    {
     "data": {
      "text/plain": [
       "array([5, 3, 3, 2, 3], dtype=int64)"
      ]
     },
     "execution_count": 15,
     "metadata": {},
     "output_type": "execute_result"
    }
   ],
   "source": [
    "## prediction\n",
    "yhat =k_neighbor.predict(X_test)\n",
    "yhat[0:5]"
   ]
  },
  {
   "cell_type": "code",
   "execution_count": 16,
   "metadata": {},
   "outputs": [
    {
     "name": "stdout",
     "output_type": "stream",
     "text": [
      "Train set Accuracy:  0.6948051948051948\n",
      "Test set Accuracy:  0.36363636363636365\n"
     ]
    }
   ],
   "source": [
    "## Evaluation\n",
    "from sklearn import metrics\n",
    "print(\"Train set Accuracy: \", metrics.accuracy_score(y_train,k_neighbor.predict(X_train)))\n",
    "print(\"Test set Accuracy: \", metrics.accuracy_score(y_test, yhat))"
   ]
  }
 ],
 "metadata": {
  "kernelspec": {
   "display_name": "Python 3",
   "language": "python",
   "name": "python3"
  },
  "language_info": {
   "codemirror_mode": {
    "name": "ipython",
    "version": 3
   },
   "file_extension": ".py",
   "mimetype": "text/x-python",
   "name": "python",
   "nbconvert_exporter": "python",
   "pygments_lexer": "ipython3",
   "version": "3.7.6"
  }
 },
 "nbformat": 4,
 "nbformat_minor": 4
}
